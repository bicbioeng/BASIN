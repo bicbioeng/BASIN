{
  "nbformat": 4,
  "nbformat_minor": 0,
  "metadata": {
    "colab": {
      "name": "BASIN ML Image Segmentation.ipynb",
      "provenance": [],
      "collapsed_sections": [],
      "toc_visible": true
    },
    "kernelspec": {
      "name": "python3",
      "display_name": "Python 3"
    },
    "language_info": {
      "name": "python"
    }
  },
  "cells": [
    {
      "cell_type": "markdown",
      "metadata": {
        "id": "x-eWZj5c0YH8"
      },
      "source": [
        "# Upload Images\n",
        "Upload your images to the images/ folder under the current working directory, which can be found in the left sidebar after running the code below. Images can be uploaded using a simple drag-and-drop from your local files into Colab, or within your local directory if using Jupyter notebooks."
      ]
    },
    {
      "cell_type": "code",
      "metadata": {
        "id": "Qu_sms6x0l6t"
      },
      "source": [
        "!mkdir images\n",
        "!mkdir masks\n",
        "!mkdir masks/red\n",
        "!mkdir masks/green\n",
        "!mkdir masks/blue"
      ],
      "execution_count": null,
      "outputs": []
    },
    {
      "cell_type": "markdown",
      "metadata": {
        "id": "MS1kytrM1jjN"
      },
      "source": [
        "All image masks containing the segmented cells will be saved to the masks/ folder. The names of the masks will match the names of their corresponding input images and saved to their respective RGB frame folders (red/, green/, and blue/)."
      ]
    },
    {
      "cell_type": "markdown",
      "metadata": {
        "id": "BDj85oHYpzhP"
      },
      "source": [
        "# Method 1: U-Net\n",
        "Segment your images using a pre-trained Tensorflow model. You can use our model or upload your own."
      ]
    },
    {
      "cell_type": "code",
      "metadata": {
        "colab": {
          "base_uri": "https://localhost:8080/"
        },
        "id": "3mW69IxJ_nj4",
        "outputId": "a12fb4a3-73c2-479e-eb15-d3cadf474589"
      },
      "source": [
        "# import model\n",
        "!wget https://github.com/bicbioeng/BASIN/raw/master/BASIN-ML/www/cell_segmentation_unet_model.h5\n",
        "\n",
        "# alternatively download your own model\n",
        "# !wget ..."
      ],
      "execution_count": 4,
      "outputs": [
        {
          "output_type": "stream",
          "text": [
            "--2021-05-20 23:20:18--  https://github.com/bicbioeng/BASIN/raw/master/BASIN-ML/www/cell_segmentation_unet_model.h5\n",
            "Resolving github.com (github.com)... 192.30.255.112\n",
            "Connecting to github.com (github.com)|192.30.255.112|:443... connected.\n",
            "HTTP request sent, awaiting response... 302 Found\n",
            "Location: https://raw.githubusercontent.com/bicbioeng/BASIN/master/BASIN-ML/www/cell_segmentation_unet_model.h5 [following]\n",
            "--2021-05-20 23:20:19--  https://raw.githubusercontent.com/bicbioeng/BASIN/master/BASIN-ML/www/cell_segmentation_unet_model.h5\n",
            "Resolving raw.githubusercontent.com (raw.githubusercontent.com)... 185.199.108.133, 185.199.109.133, 185.199.110.133, ...\n",
            "Connecting to raw.githubusercontent.com (raw.githubusercontent.com)|185.199.108.133|:443... connected.\n",
            "HTTP request sent, awaiting response... 200 OK\n",
            "Length: 23522440 (22M) [application/octet-stream]\n",
            "Saving to: ‘cell_segmentation_unet_model.h5’\n",
            "\n",
            "cell_segmentation_u 100%[===================>]  22.43M  43.6MB/s    in 0.5s    \n",
            "\n",
            "2021-05-20 23:20:20 (43.6 MB/s) - ‘cell_segmentation_unet_model.h5’ saved [23522440/23522440]\n",
            "\n"
          ],
          "name": "stdout"
        }
      ]
    },
    {
      "cell_type": "code",
      "metadata": {
        "id": "a1Ux4vOFE7Kw"
      },
      "source": [
        "import tensorflow as tf\n",
        "import os\n",
        "import cv2\n",
        "import numpy as np\n",
        "\n",
        "model = tf.keras.models.load_model(\"/content/cell_segmentation_unet_model.h5\")\n",
        "# model = tf.keras.models.load_model(\"name of your model\")\n",
        " \n",
        "# import images\n",
        "dir = os.listdir(\"images\")\n",
        "imgs = [cv2.imread(os.path.join(\"images\",img)) for img in dir]"
      ],
      "execution_count": 64,
      "outputs": []
    },
    {
      "cell_type": "code",
      "metadata": {
        "id": "FlZ-pPL0KTBr"
      },
      "source": [
        "h = model.input.shape[1]\n",
        "w = model.input.shape[2]\n",
        "n = len(imgs)\n",
        "\n",
        "# resize images based on model input dimensions\n",
        "imgs_resized = [cv2.resize(img, [h,w]) for img in imgs]\n",
        "\n",
        "reds = [img[:,:,0] for img in imgs_resized]\n",
        "greens = [img[:,:,1] for img in imgs_resized]\n",
        "blues = [img[:,:,2] for img in imgs_resized]\n",
        "\n",
        "red_in = tf.reshape(reds, shape = [n,h,w,1])\n",
        "green_in = tf.reshape(greens, shape = [n,h,w,1])\n",
        "blue_in = tf.reshape(blues, shape = [n,h,w,1])\n",
        "\n",
        "# generate masks using model\n",
        "red_mask = model.predict(red_in)\n",
        "red_mask = (red_mask >= 0.5).astype(np.uint8)\n",
        "green_mask = model.predict(green_in)\n",
        "green_mask = (green_mask >= 0.5).astype(np.uint8)\n",
        "blue_mask = model.predict(blue_in)\n",
        "blue_mask = (blue_mask >= 0.5).astype(np.uint8)"
      ],
      "execution_count": 60,
      "outputs": []
    },
    {
      "cell_type": "code",
      "metadata": {
        "id": "IUNLvApYGxmm"
      },
      "source": [
        "for i in range(0, n):\n",
        "  name = dir[i]\n",
        "  h = imgs[i].shape[0]\n",
        "  w = imgs[i].shape[1]\n",
        "  # subset and resize frames to match original dimensions\n",
        "  red = cv2.resize(red_mask[i,:,:,0], [h,w])\n",
        "  green = cv2.resize(green_mask[i,:,:,0], [h,w])\n",
        "  blue = cv2.resize(blue_mask[i,:,:,0],[h,w])\n",
        "  # save masks\n",
        "  red_file = os.path.join(\"masks\",\"red\",name)\n",
        "  green_file = os.path.join(\"masks\",\"green\",name)\n",
        "  blue_file = os.path.join(\"masks\",\"blue\",name)\n",
        "  cv2.imwrite(red_file, red)\n",
        "  cv2.imwrite(green_file, green)\n",
        "  cv2.imwrite(blue_file, blue)\n",
        "\n",
        "# zip the masks folder and upload it to your BASIN ML session\n",
        "!zip -r masks.zip masks/"
      ],
      "execution_count": 68,
      "outputs": []
    },
    {
      "cell_type": "code",
      "metadata": {
        "colab": {
          "base_uri": "https://localhost:8080/",
          "height": 285
        },
        "id": "9aDFpItijN1L",
        "outputId": "94e1ed0b-dd13-4b26-9454-39cf83244783"
      },
      "source": [
        "# visualize your masks\n",
        "import matplotlib.pyplot as plt\n",
        "test_img = red_mask[0, :, :, 0]\n",
        "\n",
        "plt.imshow(test_img, cmap='gray')"
      ],
      "execution_count": 70,
      "outputs": [
        {
          "output_type": "execute_result",
          "data": {
            "text/plain": [
              "<matplotlib.image.AxesImage at 0x7f4ffb6bea50>"
            ]
          },
          "metadata": {
            "tags": []
          },
          "execution_count": 70
        },
        {
          "output_type": "display_data",
          "data": {
            "image/png": "[encoded data removed]",
            "text/plain": [
              "<Figure size 432x288 with 1 Axes>"
            ]
          },
          "metadata": {
            "tags": [],
            "needs_background": "light"
          }
        }
      ]
    },
    {
      "cell_type": "markdown",
      "metadata": {
        "id": "LYPhTI_JqEDa"
      },
      "source": [
        "# Method 2: Cellpose\n",
        "From the paper  *Cellpose: a generalist algorithm for cellular segmentation* (https://www.nature.com/articles/s41592-020-01018-x). More info can be found in the repository https://github.com/mouseland/cellpose. "
      ]
    },
    {
      "cell_type": "code",
      "metadata": {
        "colab": {
          "base_uri": "https://localhost:8080/"
        },
        "id": "3-OErUXOBy3S",
        "outputId": "a31cc26c-97cc-40e2-f500-42ec600acf9c"
      },
      "source": [
        "# install dependencies\n",
        "!pip install cellpose"
      ],
      "execution_count": 5,
      "outputs": [
        {
          "output_type": "stream",
          "text": [
            "Collecting cellpose\n",
            "\u001b[?25l  Downloading https://files.pythonhosted.org/packages/7d/7a/2c56d403c69885dfcaecc1fe513ecfcde8b21f43ab5d1e272fab020f96df/cellpose-0.6.5.tar.gz (13.3MB)\n",
            "\u001b[K     |████████████████████████████████| 13.3MB 319kB/s \n",
            "\u001b[?25hRequirement already satisfied: numpy in /usr/local/lib/python3.7/dist-packages (from cellpose) (1.19.5)\n",
            "Requirement already satisfied: scipy in /usr/local/lib/python3.7/dist-packages (from cellpose) (1.4.1)\n",
            "Requirement already satisfied: natsort in /usr/local/lib/python3.7/dist-packages (from cellpose) (5.5.0)\n",
            "Requirement already satisfied: tifffile in /usr/local/lib/python3.7/dist-packages (from cellpose) (2021.4.8)\n",
            "Requirement already satisfied: tqdm in /usr/local/lib/python3.7/dist-packages (from cellpose) (4.41.1)\n",
            "Requirement already satisfied: numba in /usr/local/lib/python3.7/dist-packages (from cellpose) (0.51.2)\n",
            "Requirement already satisfied: torch>=1.6 in /usr/local/lib/python3.7/dist-packages (from cellpose) (1.8.1+cu101)\n",
            "Collecting opencv-python-headless\n",
            "\u001b[?25l  Downloading https://files.pythonhosted.org/packages/c8/84/72ec52fbac4775c2a5bf0ee5573c922a0cac35eb841907edf56493a5e313/opencv_python_headless-4.5.2.52-cp37-cp37m-manylinux2014_x86_64.whl (38.2MB)\n",
            "\u001b[K     |████████████████████████████████| 38.2MB 1.2MB/s \n",
            "\u001b[?25hRequirement already satisfied: llvmlite<0.35,>=0.34.0.dev0 in /usr/local/lib/python3.7/dist-packages (from numba->cellpose) (0.34.0)\n",
            "Requirement already satisfied: setuptools in /usr/local/lib/python3.7/dist-packages (from numba->cellpose) (56.1.0)\n",
            "Requirement already satisfied: typing-extensions in /usr/local/lib/python3.7/dist-packages (from torch>=1.6->cellpose) (3.7.4.3)\n",
            "Building wheels for collected packages: cellpose\n",
            "  Building wheel for cellpose (setup.py) ... \u001b[?25l\u001b[?25hdone\n",
            "  Created wheel for cellpose: filename=cellpose-0.6.5-cp37-none-any.whl size=152503 sha256=998d4a40caf50e3acceed1d70b36d7c763a27ddc7cb4c30e41b6f0ed3512b78a\n",
            "  Stored in directory: /root/.cache/pip/wheels/1c/df/8c/cc9a5bf8946adc663f419471d2ffe5879e37bc3bc6223adebf\n",
            "Successfully built cellpose\n",
            "Installing collected packages: opencv-python-headless, cellpose\n",
            "Successfully installed cellpose-0.6.5 opencv-python-headless-4.5.2.52\n"
          ],
          "name": "stdout"
        }
      ]
    },
    {
      "cell_type": "code",
      "metadata": {
        "colab": {
          "base_uri": "https://localhost:8080/"
        },
        "id": "5UUKL1tABDNb",
        "outputId": "83e3823a-30d1-4bb9-fef2-6898ff3975fb"
      },
      "source": [
        "# Download pre-trained Cellpose model\n",
        "!wget https://github.com/bicbioeng/BASIN/raw/master/BASIN-ML/www/cellpose_residual_on_style_on_concatenation_off_Manually_curated_Images_and_Masks_2021_01_08_21_36_17.184931"
      ],
      "execution_count": 2,
      "outputs": [
        {
          "output_type": "stream",
          "text": [
            "--2021-05-20 23:03:35--  https://github.com/bicbioeng/BASIN/raw/master/BASIN-ML/www/cellpose_residual_on_style_on_concatenation_off_Manually_curated_Images_and_Masks_2021_01_08_21_36_17.184931\n",
            "Resolving github.com (github.com)... 140.82.113.3\n",
            "Connecting to github.com (github.com)|140.82.113.3|:443... connected.\n",
            "HTTP request sent, awaiting response... 302 Found\n",
            "Location: https://raw.githubusercontent.com/bicbioeng/BASIN/master/BASIN-ML/www/cellpose_residual_on_style_on_concatenation_off_Manually_curated_Images_and_Masks_2021_01_08_21_36_17.184931 [following]\n",
            "--2021-05-20 23:03:36--  https://raw.githubusercontent.com/bicbioeng/BASIN/master/BASIN-ML/www/cellpose_residual_on_style_on_concatenation_off_Manually_curated_Images_and_Masks_2021_01_08_21_36_17.184931\n",
            "Resolving raw.githubusercontent.com (raw.githubusercontent.com)... 185.199.108.133, 185.199.109.133, 185.199.110.133, ...\n",
            "Connecting to raw.githubusercontent.com (raw.githubusercontent.com)|185.199.108.133|:443... connected.\n",
            "HTTP request sent, awaiting response... 200 OK\n",
            "Length: 26556195 (25M) [application/octet-stream]\n",
            "Saving to: ‘cellpose_residual_on_style_on_concatenation_off_Manually_curated_Images_and_Masks_2021_01_08_21_36_17.184931’\n",
            "\n",
            "cellpose_residual_o 100%[===================>]  25.33M  80.4MB/s    in 0.3s    \n",
            "\n",
            "2021-05-20 23:03:37 (80.4 MB/s) - ‘cellpose_residual_on_style_on_concatenation_off_Manually_curated_Images_and_Masks_2021_01_08_21_36_17.184931’ saved [26556195/26556195]\n",
            "\n"
          ],
          "name": "stdout"
        }
      ]
    },
    {
      "cell_type": "code",
      "metadata": {
        "id": "XNKU73ut0CRn"
      },
      "source": [
        "import numpy as np\n",
        "import time, os, sys\n",
        "from urllib.parse import urlparse\n",
        "import skimage.io\n",
        "import matplotlib.pyplot as plt\n",
        "import matplotlib as mpl\n",
        "from inspect import getsourcefile\n",
        "#%matplotlib inline\n",
        "mpl.rcParams['figure.dpi'] = 300\n",
        "\n",
        "from urllib.parse import urlparse\n",
        "from cellpose import models, plot\n",
        "\n",
        "# import images\n",
        "dir = os.listdir(\"images\")\n",
        "imgs = [cv2.imread(os.path.join(\"images\",img)) for img in dir]\n",
        "nimg = len(imgs)\n",
        "\n",
        "imgs_2D = imgs\n",
        "# convert grayscale to rgb\n",
        "for i in range(0,len(imgs)):\n",
        "  if imgs[i].ndim < 3:\n",
        "    imgs[i] = plot.image_to_rgb(imgs[i])"
      ],
      "execution_count": 72,
      "outputs": []
    },
    {
      "cell_type": "code",
      "metadata": {
        "colab": {
          "base_uri": "https://localhost:8080/"
        },
        "id": "-Zho2TjmDaXm",
        "outputId": "1665ffc8-166d-482a-ef00-e40510a5e05e"
      },
      "source": [
        "model = models.CellposeModel(gpu = False, pretrained_model = \"/content/cellpose_residual_on_style_on_concatenation_off_Manually_curated_Images_and_Masks_2021_01_08_21_36_17.184931\")\n",
        "\n",
        "channels_r = [1,0]\n",
        "channels_g = [2,0]\n",
        "channels_b = [3,0]\n",
        "\n",
        "# get masks for red, green, and blue channels\n",
        "masks_r, flows, styles = model.eval(imgs_2D, diameter=None, flow_threshold=None, channels = channels_r)\n",
        "masks_g, flows, styles = model.eval(imgs_2D, diameter=None, flow_threshold=None, channels = channels_g)\n",
        "masks_b, flows, styles = model.eval(imgs_2D, diameter=None, flow_threshold=None, channels = channels_b)\n",
        "\n",
        "# computes the mask for a single image, channels 1-3 are RGB and 0 is grayscale\n",
        "def compute_mask(img, channel):\n",
        "  c = None\n",
        "  if channel == 0:\n",
        "    c = [0,0]\n",
        "  elif channel == 1:\n",
        "    c = [1,0]\n",
        "  elif channel == 2:\n",
        "    c = [2,0]\n",
        "  else:\n",
        "    c = [3,0]\n",
        "  masks, flows, styles = model.eval(img,diameter=None, flow_threshold=None, channels = c)\n",
        "  return masks\n",
        "\n",
        "#### DEFAULT MODEL\n",
        "# model = models.Cellpose(gpu = False, model_type='cyto') \n",
        "# channels_r = [1,0]\n",
        "# channels_g = [2,0]\n",
        "# channels_b = [3,0]\n",
        "\n",
        "# # get masks for red, green, and blue channels\n",
        "# masks_r, flows, styles, diams = model.eval(imgs_2D, diameter=None, flow_threshold=None, channels = channels_r)\n",
        "# masks_g, flows, styles, diams = model.eval(imgs_2D, diameter=None, flow_threshold=None, channels = channels_g)\n",
        "# masks_b, flows, styles, diams = model.eval(imgs_2D, diameter=None, flow_threshold=None, channels = channels_b)\n",
        "\n",
        "# # computes the mask for a single image, channels 1-3 are RGB and 0 is grayscale\n",
        "# def compute_mask(img, channel):\n",
        "#   c = None\n",
        "#   if channel == 0:\n",
        "#     c = [0,0]\n",
        "#   elif channel == 1:\n",
        "#     c = [1,0]\n",
        "#   elif channel == 2:\n",
        "#     c = [2,0]\n",
        "#   else:\n",
        "#     c = [3,0]\n",
        "#   masks, flows, styles, diams = model.eval(img,diameter=None, flow_threshold=None, channels = c)\n",
        "#   return masks"
      ],
      "execution_count": 73,
      "outputs": [
        {
          "output_type": "stream",
          "text": [
            "2021-05-21 02:28:42,821 [INFO] parsing model string cellpose_residual_on_style_on_concatenation_off_Manually_curated_Images_and_Masks_2021_01_08_21_36_17.184931 to get cellpose options\n",
            "2021-05-21 02:28:42,822 [INFO] >>>> using CPU\n",
            "2021-05-21 02:28:43,052 [INFO] 0%|          | 0/6 [00:00<?, ?it/s]\n",
            "2021-05-21 02:28:47,741 [WARNING] WARNING: no mask pixels found\n",
            "2021-05-21 02:28:47,794 [INFO] 17%|#6        | 1/6 [00:04<00:23,  4.74s/it]\n",
            "2021-05-21 02:28:53,252 [INFO] 33%|###3      | 2/6 [00:10<00:19,  4.96s/it]\n",
            "2021-05-21 02:28:56,896 [INFO] 50%|#####     | 3/6 [00:13<00:13,  4.56s/it]\n",
            "2021-05-21 02:29:00,380 [WARNING] WARNING: no mask pixels found\n",
            "2021-05-21 02:29:00,423 [INFO] 67%|######6   | 4/6 [00:17<00:08,  4.25s/it]\n",
            "2021-05-21 02:29:05,491 [INFO] 83%|########3 | 5/6 [00:22<00:04,  4.50s/it]\n",
            "2021-05-21 02:29:09,065 [INFO] 100%|##########| 6/6 [00:26<00:00,  4.22s/it]\n",
            "2021-05-21 02:29:09,067 [INFO] 100%|##########| 6/6 [00:26<00:00,  4.34s/it]\n",
            "2021-05-21 02:29:09,075 [INFO] 0%|          | 0/6 [00:00<?, ?it/s]\n",
            "2021-05-21 02:29:12,595 [WARNING] WARNING: no mask pixels found\n",
            "2021-05-21 02:29:12,638 [INFO] 17%|#6        | 1/6 [00:03<00:17,  3.56s/it]\n",
            "2021-05-21 02:29:17,729 [INFO] 33%|###3      | 2/6 [00:08<00:16,  4.02s/it]\n",
            "2021-05-21 02:29:21,323 [INFO] 50%|#####     | 3/6 [00:12<00:11,  3.89s/it]\n",
            "2021-05-21 02:29:24,828 [WARNING] WARNING: no mask pixels found\n",
            "2021-05-21 02:29:24,870 [INFO] 67%|######6   | 4/6 [00:15<00:07,  3.79s/it]\n",
            "2021-05-21 02:29:29,936 [INFO] 83%|########3 | 5/6 [00:20<00:04,  4.17s/it]\n",
            "2021-05-21 02:29:33,494 [INFO] 100%|##########| 6/6 [00:24<00:00,  3.99s/it]\n",
            "2021-05-21 02:29:33,495 [INFO] 100%|##########| 6/6 [00:24<00:00,  4.07s/it]\n",
            "2021-05-21 02:29:33,502 [INFO] 0%|          | 0/6 [00:00<?, ?it/s]\n",
            "2021-05-21 02:29:37,081 [INFO] 17%|#6        | 1/6 [00:03<00:17,  3.58s/it]\n",
            "2021-05-21 02:29:42,331 [INFO] 33%|###3      | 2/6 [00:08<00:16,  4.08s/it]\n",
            "2021-05-21 02:29:45,868 [INFO] 50%|#####     | 3/6 [00:12<00:11,  3.92s/it]\n",
            "2021-05-21 02:29:49,501 [INFO] 67%|######6   | 4/6 [00:15<00:07,  3.83s/it]\n",
            "2021-05-21 02:29:54,535 [INFO] 83%|########3 | 5/6 [00:21<00:04,  4.19s/it]\n",
            "2021-05-21 02:29:58,135 [INFO] 100%|##########| 6/6 [00:24<00:00,  4.01s/it]\n",
            "2021-05-21 02:29:58,138 [INFO] 100%|##########| 6/6 [00:24<00:00,  4.11s/it]\n"
          ],
          "name": "stdout"
        }
      ]
    },
    {
      "cell_type": "code",
      "metadata": {
        "colab": {
          "base_uri": "https://localhost:8080/"
        },
        "id": "i7g1BUPrwZKf",
        "outputId": "07b58d15-0a08-4898-ab48-e33dc904b059"
      },
      "source": [
        "for i in range(0, n):\n",
        "  name = dir[i]\n",
        "  # subset frames to match original dimensions\n",
        "  red = masks_r[i]\n",
        "  green = masks_g[i]\n",
        "  blue = masks_b[i]\n",
        "  # save masks\n",
        "  red_file = os.path.join(\"masks\",\"red\",name)\n",
        "  green_file = os.path.join(\"masks\",\"green\",name)\n",
        "  blue_file = os.path.join(\"masks\",\"blue\",name)\n",
        "  cv2.imwrite(red_file, red)\n",
        "  cv2.imwrite(green_file, green)\n",
        "  cv2.imwrite(blue_file, blue)\n",
        "\n",
        "# zip the masks folder and upload it to your BASIN ML session\n",
        "!zip -r masks.zip masks/"
      ],
      "execution_count": 82,
      "outputs": [
        {
          "output_type": "stream",
          "text": [
            "  adding: masks/ (stored 0%)\n",
            "  adding: masks/red/ (stored 0%)\n",
            "  adding: masks/red/chiou_f6_bcl2_ir-cd133-.tif (deflated 93%)\n",
            "  adding: masks/red/chiou_f1_cd133-.tif (deflated 76%)\n",
            "  adding: masks/red/.ipynb_checkpoints/ (stored 0%)\n",
            "  adding: masks/red/chiou_f6_mge_ir-cd133-.tif (deflated 30%)\n",
            "  adding: masks/red/chiou_f6_bcl2_ir-cd133+.tif (deflated 93%)\n",
            "  adding: masks/red/chiou_f1_cd133+.tif (deflated 73%)\n",
            "  adding: masks/red/chiou_f6_mge_ir-cd133+.tif (deflated 56%)\n",
            "  adding: masks/green/ (stored 0%)\n",
            "  adding: masks/green/chiou_f6_bcl2_ir-cd133-.tif (deflated 93%)\n",
            "  adding: masks/green/chiou_f1_cd133-.tif (deflated 84%)\n",
            "  adding: masks/green/chiou_f6_mge_ir-cd133-.tif (deflated 63%)\n",
            "  adding: masks/green/chiou_f6_bcl2_ir-cd133+.tif (deflated 93%)\n",
            "  adding: masks/green/chiou_f1_cd133+.tif (deflated 72%)\n",
            "  adding: masks/green/chiou_f6_mge_ir-cd133+.tif (deflated 90%)\n",
            "  adding: masks/blue/ (stored 0%)\n",
            "  adding: masks/blue/chiou_f6_bcl2_ir-cd133-.tif (deflated 76%)\n",
            "  adding: masks/blue/chiou_f1_cd133-.tif (deflated 73%)\n",
            "  adding: masks/blue/chiou_f6_mge_ir-cd133-.tif (deflated 66%)\n",
            "  adding: masks/blue/chiou_f6_bcl2_ir-cd133+.tif (deflated 41%)\n",
            "  adding: masks/blue/chiou_f1_cd133+.tif (deflated 73%)\n",
            "  adding: masks/blue/chiou_f6_mge_ir-cd133+.tif (deflated 41%)\n"
          ],
          "name": "stdout"
        }
      ]
    }
  ]
}